{
 "cells": [
  {
   "cell_type": "code",
   "execution_count": 1,
   "metadata": {},
   "outputs": [],
   "source": [
    "import pandas as pd\n",
    "\n",
    "pd.options.display.max_columns = 500"
   ]
  },
  {
   "cell_type": "code",
   "execution_count": 2,
   "metadata": {},
   "outputs": [],
   "source": [
    "df_train = pd.read_csv('train_data_nonull.csv')\n",
    "df_val = pd.read_csv('val_data_nonull.csv')"
   ]
  },
  {
   "cell_type": "code",
   "execution_count": 3,
   "metadata": {},
   "outputs": [],
   "source": [
    "keys = ['id', 'vintage']\n",
    "product = ['installments']\n",
    "relevance_features = ['is_loan', 'is_default', 'relevance_score']\n",
    "hold_feature = ['internal_feature_3']\n",
    "\n",
    "all_remaining = [col for col in df_train.columns if col not in keys + product + relevance_features + hold_feature]"
   ]
  },
  {
   "cell_type": "markdown",
   "metadata": {},
   "source": [
    "Treatment for categorical features"
   ]
  },
  {
   "cell_type": "code",
   "execution_count": 4,
   "metadata": {},
   "outputs": [],
   "source": [
    "def get_regiao(value):\n",
    "    if value in ['RS', 'PR', 'SC']:\n",
    "        new_value = 'Sul'\n",
    "    elif value in ['MG', 'RJ', 'ES']:\n",
    "        new_value = 'Sudeste'\n",
    "    elif value in ['MS', 'MT', 'GO', 'DF']:\n",
    "        new_value = 'Centro_Oeste'\n",
    "    elif value in ['BA', 'PI', 'MA', 'CE', 'RN', 'PB', 'PE', 'AL', 'SE']:\n",
    "        new_value = 'Nordeste'\n",
    "    elif value in ['AC', 'RO', 'AM', 'AP', 'PA', 'RR', 'TO']:\n",
    "        new_value = 'Norte'\n",
    "    else:\n",
    "        new_value = 'SP'\n",
    "    return new_value\n",
    "\n",
    "df_train['internal_feature_11'] = df_train['internal_feature_11'].apply(lambda x: get_regiao(x))\n",
    "df_val['internal_feature_11'] = df_val['internal_feature_11'].apply(lambda x: get_regiao(x))"
   ]
  },
  {
   "cell_type": "code",
   "execution_count": 5,
   "metadata": {},
   "outputs": [],
   "source": [
    "trans_dict = {}\n",
    "\n",
    "for feature in ['internal_feature_0', 'internal_feature_4']:\n",
    "\n",
    "    temp = df_train[feature] \\\n",
    "            .value_counts(normalize = True) \\\n",
    "            .sort_values(ascending = False) \\\n",
    "            .reset_index() \\\n",
    "            .rename(columns = {'index': feature, feature: 'values'})\n",
    "\n",
    "    temp['values'] = temp.apply(lambda x: x[0] if x[1] > 0.01 else 'Others', axis = 1)\n",
    "\n",
    "    temp_dict = {}\n",
    "    for line in temp[feature]:        \n",
    "        temp_dict[line] = temp.loc[temp[feature] == line, 'values'].values[0]\n",
    "    \n",
    "    trans_dict[feature] = temp_dict\n",
    "    \n",
    "for feature in trans_dict.keys():\n",
    "    df_train[feature] = df_train[feature].apply(lambda x: trans_dict[feature][x])"
   ]
  },
  {
   "cell_type": "code",
   "execution_count": 6,
   "metadata": {},
   "outputs": [
    {
     "data": {
      "text/plain": [
       "array(['PCRE', 'PDIV', 'WEDD', 'PDEB', 'TRAV', 'EDUC', 'BUSI', 'FURN',\n",
       "       'VEIC', 'IMOB', 'DEBT', 'ELET', 'IEMP', 'MEDI', 'PORT', 'PEMP',\n",
       "       'ESTH'], dtype=object)"
      ]
     },
     "execution_count": 6,
     "metadata": {},
     "output_type": "execute_result"
    }
   ],
   "source": [
    "def transform_if5(value):\n",
    "    if value in ['IEMP', 'BUSI']:\n",
    "    return 'BUSINESS'\n",
    "    elif value in ['DEBT', 'PCRE', 'PDEB', 'PEMP', 'PDIV', 'PORT']:\n",
    "    return 'DEBT'\n",
    "    elif value in ['VEIC', 'ELET']:\n",
    "    return 'PURCHASE'\n",
    "    elif value in ['IMOB', 'FURN']:\n",
    "    return 'HOUSE'\n",
    "    elif value in ['ESTH', 'MEDI']:\n",
    "    return 'MEDICAL'\n",
    "    else:\n",
    "    return 'OTHERS'\n",
    "\n",
    "df_train['internal_feature_5'] = df_train['internal_feature_5'].apply(lambda x: transform_if5(x))\n",
    "df_val['internal_feature_5'] = df_val['internal_feature_5'].apply(lambda x: transform_if5(x))"
   ]
  },
  {
   "cell_type": "code",
   "execution_count": 7,
   "metadata": {},
   "outputs": [],
   "source": [
    "# internal_feature_9\n",
    "\n",
    "def get_status(value):\n",
    "    if value in ['DIVORCED', 'SEPARATED']:\n",
    "        new_value = 'DIVORCED'\n",
    "    elif value in ['MARRIED', 'STABLE_UNION']:\n",
    "        new_value = 'MARRIED'\n",
    "    else:\n",
    "        new_value = 'SINGLE'\n",
    "    return new_value\n",
    "\n",
    "df_train['internal_feature_9'] = df_train['internal_feature_9'].apply(lambda x: get_status(x))\n",
    "df_val['internal_feature_9'] = df_val['internal_feature_9'].apply(lambda x: get_status(x))"
   ]
  },
  {
   "cell_type": "code",
   "execution_count": 8,
   "metadata": {},
   "outputs": [],
   "source": [
    "bureau_cat = ['bureau_feature_16', 'bureau_feature_17', 'bureau_feature_18', \n",
    "              'bureau_feature_19', 'bureau_feature_20', 'bureau_feature_21']\n",
    "\n",
    "for feature in bureau_cat:\n",
    "    df_train[feature] = df_train[feature].apply(lambda x: 'NAO_CONSTAM_OCORRENCIAS' if x == 'Not_found' else x)\n",
    "    df_val[feature] = df_val[feature].apply(lambda x: 'NAO_CONSTAM_OCORRENCIAS' if x == 'Not_found' else x)"
   ]
  },
  {
   "cell_type": "markdown",
   "metadata": {},
   "source": [
    "Treatment for numerical columns"
   ]
  }
 ],
 "metadata": {
  "kernelspec": {
   "display_name": "Python 3",
   "language": "python",
   "name": "python3"
  },
  "language_info": {
   "codemirror_mode": {
    "name": "ipython",
    "version": 3
   },
   "file_extension": ".py",
   "mimetype": "text/x-python",
   "name": "python",
   "nbconvert_exporter": "python",
   "pygments_lexer": "ipython3",
   "version": "3.7.6"
  }
 },
 "nbformat": 4,
 "nbformat_minor": 4
}
